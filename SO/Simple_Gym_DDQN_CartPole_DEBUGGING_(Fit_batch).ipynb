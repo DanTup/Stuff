{
  "nbformat": 4,
  "nbformat_minor": 0,
  "metadata": {
    "colab": {
      "name": "Simple Gym DDQN - CartPole - DEBUGGING (Fit batch).ipynb",
      "version": "0.3.2",
      "provenance": [],
      "collapsed_sections": []
    },
    "kernelspec": {
      "name": "python3",
      "display_name": "Python 3"
    }
  },
  "cells": [
    {
      "cell_type": "code",
      "metadata": {
        "id": "cfG8x8qaJt24",
        "colab_type": "code",
        "colab": {}
      },
      "source": [
        "!pip install -q tensorflow==2.0.0-beta1"
      ],
      "execution_count": 0,
      "outputs": []
    },
    {
      "cell_type": "code",
      "metadata": {
        "id": "xUfu5_E3HmUr",
        "colab_type": "code",
        "colab": {}
      },
      "source": [
        "import numpy as np\n",
        "import random as rn\n",
        "\n",
        "np.random.seed(126)\n",
        "rn.seed(126)"
      ],
      "execution_count": 0,
      "outputs": []
    },
    {
      "cell_type": "code",
      "metadata": {
        "id": "fKExJprHwYbC",
        "colab_type": "code",
        "colab": {}
      },
      "source": [
        "import os\n",
        "import random\n",
        "from collections import deque\n",
        "import gym\n",
        "import numpy as np\n",
        "import matplotlib.pyplot as plt\n",
        "from tensorflow.keras.models import Sequential\n",
        "from tensorflow.keras.layers import Dense\n",
        "from tensorflow.keras.optimizers import Adam\n",
        "from tensorflow import losses\n",
        "from IPython.display import clear_output"
      ],
      "execution_count": 0,
      "outputs": []
    },
    {
      "cell_type": "code",
      "metadata": {
        "id": "wVhaCGn9xjHD",
        "colab_type": "code",
        "colab": {}
      },
      "source": [
        "env_name = \"CartPole-v1\"\n",
        "env = gym.make(env_name)\n",
        "action_size = env.action_space.n\n",
        "state_size = env.observation_space.shape[0]\n",
        "minibatch_size = 32\n",
        "num_episodes = 2000\n",
        "memory_size = 2000              # We keep this many memories"
      ],
      "execution_count": 0,
      "outputs": []
    },
    {
      "cell_type": "code",
      "metadata": {
        "id": "cB6U0NsByxE6",
        "colab_type": "code",
        "colab": {}
      },
      "source": [
        "class DQNAgent:\n",
        "    \n",
        "    def __init__(self, state_size, action_size):\n",
        "        self.state_size = state_size\n",
        "        self.action_size = action_size\n",
        "        # Memories used for sampling, we keep oldest and newest memory_size.\n",
        "        self.recent_memory = deque(maxlen=2000)\n",
        "        self.gamma = 0.95                       # Discount rate for future rewards\n",
        "        self.epsilon = 1.0                      # Initial rate for exploration\n",
        "        self.epsilon_decay = 0.995              # Multiplier for exploration rate\n",
        "        self.epsilon_min = 0.01                 # Minimum exploration rate\n",
        "        self.learning_rate = 0.001              # NN learning rate\n",
        "        \n",
        "        self.model = self._build_model()\n",
        "        self.history = {\"huber\": [], \"mse\": []}\n",
        "        \n",
        "    def _build_model(self):\n",
        "        model = Sequential()\n",
        "        model.add(Dense(24, input_dim=self.state_size, activation=\"relu\"))\n",
        "        model.add(Dense(24, activation=\"relu\"))\n",
        "        model.add(Dense(self.action_size, activation=\"linear\"))\n",
        "        model.compile(optimizer=Adam(lr=self.learning_rate),\n",
        "                      loss=\"mse\"\n",
        "                     )\n",
        "        return model\n",
        "    \n",
        "    def remember(self, state, action, reward, next_state, done):\n",
        "        self.recent_memory.append((state, action, reward, next_state, done))\n",
        "\n",
        "    def get_action(self, state):\n",
        "        # Use random exploration for the current rate.\n",
        "        if np.random.rand() <= self.epsilon:\n",
        "            return random.randrange(self.action_size)\n",
        "        \n",
        "        # Otherwise use the model to predict the rewards and select the max.\n",
        "        q_values = self.model.predict(state)\n",
        "        return np.argmax(q_values[0])\n",
        "\n",
        "    def decay_epsilon(self):\n",
        "        self.epsilon *= self.epsilon_decay\n",
        "        self.epsilon = max(self.epsilon_min, self.epsilon)\n",
        "    \n",
        "    def replay(self):\n",
        "        if len(self.recent_memory) < minibatch_size:\n",
        "            return\n",
        "        \n",
        "        minibatch = random.sample(self.recent_memory, minibatch_size)\n",
        "        \n",
        "        state_batch, q_values_batch = [], []\n",
        "        \n",
        "        for state, action, reward, next_state, done in minibatch:\n",
        "            # Get predictions for all actions for the current state.\n",
        "            q_values = self.model.predict(state)\n",
        "            \n",
        "            # If we're not done, add on the future predicted reward at the discounted rate.\n",
        "            if done:\n",
        "                q_values[0][action] = reward\n",
        "            else:\n",
        "                future_reward = np.amax(self.model.predict(next_state)[0])\n",
        "                q_values[0][action] = reward + self.gamma * future_reward\n",
        "            \n",
        "            state_batch.append(state[0])\n",
        "            q_values_batch.append(q_values[0])\n",
        "            \n",
        "        # Re-fit the model to move it closer to this newly calculated reward.\n",
        "        self.model.fit(np.array(state_batch), np.array(q_values_batch))\n",
        "        \n",
        "        agent.decay_epsilon()\n"
      ],
      "execution_count": 0,
      "outputs": []
    },
    {
      "cell_type": "code",
      "metadata": {
        "id": "oA_COVk51Mwh",
        "colab_type": "code",
        "outputId": "7f5256aa-f1fa-43aa-c7ac-00e6869f02f7",
        "colab": {
          "base_uri": "https://localhost:8080/",
          "height": 677
        }
      },
      "source": [
        "agent = DQNAgent(state_size, action_size)\n",
        "scores = []\n",
        "\n",
        "# Why didn't loading work??\n",
        "#agent.load_weights(os.path.join(output_dir, \"weights_xxx.hdf5\"))\n",
        "\n",
        "for episode in range(num_episodes):\n",
        "    state = env.reset()\n",
        "    state = np.reshape(state, [1, state_size])\n",
        "    score = 0\n",
        "    \n",
        "    for frame in range(1000):\n",
        "        # env.render()\n",
        "        \n",
        "        action = agent.get_action(state)\n",
        "        \n",
        "        next_state, reward, done, _ = env.step(action)\n",
        "        next_state = np.reshape(next_state, [1, state_size])\n",
        "        \n",
        "        agent.remember(state, action, reward, next_state, done)\n",
        "    \n",
        "        state = next_state\n",
        "        score += reward\n",
        "        \n",
        "        if done:\n",
        "            scores.append(score)\n",
        "            print(\"episode: {}/{}, score: {}, eps: {:.2}, memory: {}/{}\".format(episode, num_episodes, score, agent.epsilon, len(agent.recent_memory), memory_size))\n",
        "            break\n",
        "    \n",
        "    agent.replay()\n",
        "    \n",
        "    if episode % 10 == 0 or episode < 10:\n",
        "        clear_output(wait=True)\n",
        "        plt.plot(scores)\n",
        "        plt.show()\n",
        "    \n",
        "    #if episode % 100 == 0:\n",
        "    #    agent.save_weights(os.path.join(output_dir, \"weights_{:04d}.hdf5\".format(episode)))"
      ],
      "execution_count": 0,
      "outputs": [
        {
          "output_type": "display_data",
          "data": {
            "image/png": "[encoded data removed]",
            "text/plain": [
              "<Figure size 432x288 with 1 Axes>"
            ]
          },
          "metadata": {
            "tags": []
          }
        },
        {
          "output_type": "stream",
          "text": [
            "episode: 971/2000, score: 11.0, eps: 0.01, memory: 2000/2000\n",
            "Train on 32 samples\n",
            "\r32/32 [==============================] - 0s 67us/sample - loss: 5.4588\n",
            "episode: 972/2000, score: 12.0, eps: 0.01, memory: 2000/2000\n",
            "Train on 32 samples\n",
            "32/32 [==============================] - 0s 70us/sample - loss: 3.4561\n",
            "episode: 973/2000, score: 10.0, eps: 0.01, memory: 2000/2000\n",
            "Train on 32 samples\n",
            "32/32 [==============================] - 0s 68us/sample - loss: 2.9836\n",
            "episode: 974/2000, score: 13.0, eps: 0.01, memory: 2000/2000\n",
            "Train on 32 samples\n",
            "32/32 [==============================] - 0s 73us/sample - loss: 4.8680\n",
            "episode: 975/2000, score: 9.0, eps: 0.01, memory: 2000/2000\n",
            "Train on 32 samples\n",
            "32/32 [==============================] - 0s 65us/sample - loss: 2.1157\n",
            "episode: 976/2000, score: 9.0, eps: 0.01, memory: 2000/2000\n",
            "Train on 32 samples\n",
            "32/32 [==============================] - 0s 94us/sample - loss: 3.7035\n",
            "episode: 977/2000, score: 11.0, eps: 0.01, memory: 2000/2000\n",
            "Train on 32 samples\n",
            "32/32 [==============================] - 0s 68us/sample - loss: 2.8195\n",
            "episode: 978/2000, score: 16.0, eps: 0.01, memory: 2000/2000\n",
            "Train on 32 samples\n",
            "32/32 [==============================] - 0s 68us/sample - loss: 4.4249\n"
          ],
          "name": "stdout"
        }
      ]
    },
    {
      "cell_type": "code",
      "metadata": {
        "id": "15I5POx-iXmE",
        "colab_type": "code",
        "colab": {}
      },
      "source": [
        ""
      ],
      "execution_count": 0,
      "outputs": []
    }
  ]
}
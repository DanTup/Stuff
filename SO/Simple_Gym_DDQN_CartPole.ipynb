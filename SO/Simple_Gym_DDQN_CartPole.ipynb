{
  "nbformat": 4,
  "nbformat_minor": 0,
  "metadata": {
    "colab": {
      "name": "Simple Gym DDQN - CartPole.ipynb",
      "version": "0.3.2",
      "provenance": [],
      "collapsed_sections": []
    },
    "kernelspec": {
      "name": "python3",
      "display_name": "Python 3"
    },
    "accelerator": "GPU"
  },
  "cells": [
    {
      "cell_type": "code",
      "metadata": {
        "id": "fKExJprHwYbC",
        "colab_type": "code",
        "colab": {
          "base_uri": "https://localhost:8080/",
          "height": 34
        },
        "outputId": "bce91610-b7bc-46ef-ade3-b44ac06fdab8"
      },
      "source": [
        "import os\n",
        "import random\n",
        "from collections import deque\n",
        "import gym\n",
        "import numpy as np\n",
        "import matplotlib.pyplot as plt\n",
        "from keras.models import Sequential\n",
        "from keras.layers import Dense\n",
        "from keras.optimizers import Adam\n",
        "from IPython.display import clear_output"
      ],
      "execution_count": 1,
      "outputs": [
        {
          "output_type": "stream",
          "text": [
            "Using TensorFlow backend.\n"
          ],
          "name": "stderr"
        }
      ]
    },
    {
      "cell_type": "code",
      "metadata": {
        "id": "wVhaCGn9xjHD",
        "colab_type": "code",
        "colab": {}
      },
      "source": [
        "env_name = \"CartPole-v1\"\n",
        "env = gym.make(env_name)\n",
        "action_size = env.action_space.n\n",
        "state_size = env.observation_space.shape[0]\n",
        "minibatch_size = 128\n",
        "num_episodes = 2000\n",
        "output_dir = os.path.join(\"model_output\", env_name)"
      ],
      "execution_count": 0,
      "outputs": []
    },
    {
      "cell_type": "code",
      "metadata": {
        "id": "52L43dt5xzna",
        "colab_type": "code",
        "colab": {}
      },
      "source": [
        "if not os.path.exists(output_dir):\n",
        "    os.makedirs(output_dir)"
      ],
      "execution_count": 0,
      "outputs": []
    },
    {
      "cell_type": "code",
      "metadata": {
        "id": "cB6U0NsByxE6",
        "colab_type": "code",
        "colab": {}
      },
      "source": [
        "class DQNAgent:\n",
        "    \n",
        "    def __init__(self, state_size, action_size):\n",
        "        self.state_size = state_size\n",
        "        self.action_size = action_size\n",
        "        self.memory = deque(maxlen=2000) # Memory used for sampling moves for training\n",
        "        self.gamma = 0.95                # Discount rate for future rewards\n",
        "        self.tau = 0.15                  # Multiplier for applying new weights to target model\n",
        "        self.epsilon = 1.0               # Initial rate for exploration\n",
        "        self.epsilon_decay = 0.995       # Multiplier for exploration rate\n",
        "        self.epsilon_min = 0.01          # Minimum exploration rate\n",
        "        self.learning_rate = 0.005       # NN learning rate\n",
        "        \n",
        "        self.model = self._build_model()\n",
        "        self.target_model = self._build_model()\n",
        "        self.target_model.set_weights(self.model.get_weights())\n",
        "    \n",
        "    def _build_model(self):\n",
        "        model = Sequential()\n",
        "        model.add(Dense(24, input_dim=self.state_size, activation=\"relu\"))\n",
        "        model.add(Dense(24, activation=\"relu\"))\n",
        "        model.add(Dense(self.action_size, activation=\"linear\"))\n",
        "        model.compile(optimizer=Adam(lr=self.learning_rate), loss=\"mse\")\n",
        "        return model\n",
        "    \n",
        "    def remember(self, state, action, reward, next_state, done):\n",
        "        self.memory.append((state, action, reward, next_state, done))\n",
        "\n",
        "    def get_action(self, state):\n",
        "        # Use random exploration for the current rate.\n",
        "        if np.random.rand() < self.epsilon:\n",
        "            return random.randrange(self.action_size)\n",
        "        \n",
        "        # Otherwise use the model to predict the rewards and select the max.\n",
        "        q_values = self.model.predict(state)\n",
        "        return np.argmax(q_values[0])\n",
        "\n",
        "    def replay(self, batch_size):\n",
        "        if len(agent.memory) < minibatch_size:\n",
        "            return\n",
        "        \n",
        "        # Decay the exploration rate.\n",
        "        self.epsilon *= self.epsilon_decay\n",
        "        self.epsilon = max(self.epsilon_min, self.epsilon)\n",
        "            \n",
        "        minibatch = random.sample(self.memory, minibatch_size)\n",
        "        \n",
        "        state_batch, q_values_batch = [], []\n",
        "        for state, action, reward, next_state, done in minibatch:\n",
        "            # Get predictions for all actions for the current state.\n",
        "            q_values = self.model.predict(state)\n",
        "            \n",
        "            # If we're not done, add on the future predicted reward at the discounted rate.\n",
        "            if done:\n",
        "                q_values[0][action] = reward\n",
        "            else:\n",
        "                f = self.target_model.predict(next_state)\n",
        "                future_reward = max(self.target_model.predict(next_state)[0])\n",
        "                q_values[0][action] = reward + self.gamma * future_reward\n",
        "            \n",
        "            state_batch.append(state[0])\n",
        "            q_values_batch.append(q_values[0])\n",
        "            \n",
        "        # Re-fit the model to move it closer to this newly calculated reward.\n",
        "        self.model.fit(np.array(state_batch), np.array(q_values_batch), batch_size=batch_size, epochs=1, verbose=0)\n",
        "           \n",
        "        self.update_weights()\n",
        "            \n",
        "    def update_weights(self):\n",
        "        weights = self.model.get_weights()\n",
        "        target_weights = self.target_model.get_weights()\n",
        "        \n",
        "        for i in range(len(target_weights)):\n",
        "            target_weights[i] = weights[i] * self.tau + target_weights[i] * (1 - self.tau)\n",
        "            \n",
        "        self.target_model.set_weights(target_weights)\n",
        "\n",
        "    def load_weights(self, name):\n",
        "        self.model.load_weights(name)\n",
        "\n",
        "    def save_weights(self, name):\n",
        "        self.model.save_weights(name)"
      ],
      "execution_count": 0,
      "outputs": []
    },
    {
      "cell_type": "code",
      "metadata": {
        "id": "oA_COVk51Mwh",
        "colab_type": "code",
        "outputId": "8a7dfea2-2246-48ea-d2cf-dcb82f89b663",
        "colab": {
          "base_uri": "https://localhost:8080/",
          "height": 422
        }
      },
      "source": [
        "agent = DQNAgent(state_size, action_size)\n",
        "scores = []\n",
        "\n",
        "for episode in range(num_episodes):\n",
        "    state = env.reset()\n",
        "    state = np.reshape(state, [1, state_size])\n",
        "    score = 0\n",
        "    \n",
        "    for frame in range(1000):\n",
        "        # env.render()\n",
        "        \n",
        "        action = agent.get_action(state)\n",
        "        \n",
        "        next_state, reward, done, _ = env.step(action)\n",
        "        next_state = np.reshape(next_state, [1, state_size])\n",
        "        \n",
        "        agent.remember(state, action, reward, next_state, done)\n",
        "    \n",
        "        state = next_state\n",
        "        score += reward\n",
        "        \n",
        "        if done:\n",
        "            scores.append(score)\n",
        "            print(\"episode: {}/{}, score: {}, eps: {:.2}\".format(episode, num_episodes, score, agent.epsilon))\n",
        "            break\n",
        "            \n",
        "    agent.replay(minibatch_size)\n",
        "    \n",
        "    if episode % 10 == 0 or episode < 10:\n",
        "        clear_output(wait=True)\n",
        "        plt.plot(scores)\n",
        "        plt.show()\n",
        "    \n",
        "    if episode % 100 == 0:\n",
        "        agent.save_weights(output_dir + \"weights_\" + '{:04d}'.format(episode) + \".hdf5\")"
      ],
      "execution_count": 17,
      "outputs": [
        {
          "output_type": "display_data",
          "data": {
            "image/png": "[encoded data removed]",
            "text/plain": [
              "<Figure size 432x288 with 1 Axes>"
            ]
          },
          "metadata": {
            "tags": []
          }
        },
        {
          "output_type": "stream",
          "text": [
            "episode: 1991/2000, score: 149.0, eps: 0.01\n",
            "episode: 1992/2000, score: 148.0, eps: 0.01\n",
            "episode: 1993/2000, score: 137.0, eps: 0.01\n",
            "episode: 1994/2000, score: 136.0, eps: 0.01\n",
            "episode: 1995/2000, score: 138.0, eps: 0.01\n",
            "episode: 1996/2000, score: 134.0, eps: 0.01\n",
            "episode: 1997/2000, score: 140.0, eps: 0.01\n",
            "episode: 1998/2000, score: 161.0, eps: 0.01\n",
            "episode: 1999/2000, score: 194.0, eps: 0.01\n"
          ],
          "name": "stdout"
        }
      ]
    },
    {
      "cell_type": "code",
      "metadata": {
        "id": "CfsGy_bMTN4a",
        "colab_type": "code",
        "colab": {}
      },
      "source": [
        ""
      ],
      "execution_count": 0,
      "outputs": []
    }
  ]
}